{
  "cells": [
    {
      "cell_type": "markdown",
      "metadata": {
        "id": "mMcWEbFiLKvn"
      },
      "source": [
        "# NumPy Exercises\n",
        "\n",
        "Now that we've learned about NumPy let's test your knowledge. We'll start off with a few simple tasks, and then you'll be asked some more complicated questions."
      ]
    },
    {
      "cell_type": "markdown",
      "metadata": {
        "id": "DvBjXHM1LKvw"
      },
      "source": [
        "#### Import NumPy as np"
      ]
    },
    {
      "cell_type": "code",
      "execution_count": null,
      "metadata": {
        "id": "StInvTamLKv0"
      },
      "outputs": [],
      "source": [
        "import numpy as np"
      ]
    },
    {
      "cell_type": "markdown",
      "metadata": {
        "id": "qav3VCgyLKv5"
      },
      "source": [
        "#### Create an array of 10 zeros"
      ]
    },
    {
      "cell_type": "code",
      "execution_count": null,
      "metadata": {
        "colab": {
          "base_uri": "https://localhost:8080/"
        },
        "id": "gLlF23CdLKv6",
        "outputId": "03d5f996-7afa-4007-d5ed-de08ab4ddd64"
      },
      "outputs": [
        {
          "output_type": "execute_result",
          "data": {
            "text/plain": [
              "array([0., 0., 0., 0., 0., 0., 0., 0., 0., 0.])"
            ]
          },
          "metadata": {},
          "execution_count": 3
        }
      ],
      "source": [
        "array_of_zeros = np.zeros(10)\n",
        "array_of_zeros"
      ]
    },
    {
      "cell_type": "markdown",
      "metadata": {
        "id": "-r7m8k4vLKv_"
      },
      "source": [
        "#### Create an array of 10 ones"
      ]
    },
    {
      "cell_type": "code",
      "execution_count": null,
      "metadata": {
        "colab": {
          "base_uri": "https://localhost:8080/"
        },
        "id": "iwuCBhvcLKwB",
        "outputId": "298cd819-dbf4-4534-9a19-df6893e67d3a"
      },
      "outputs": [
        {
          "output_type": "execute_result",
          "data": {
            "text/plain": [
              "[1, 1, 1, 1, 1, 1, 1, 1, 1, 1]"
            ]
          },
          "metadata": {},
          "execution_count": 4
        }
      ],
      "source": [
        "array_of_ones = [1 for i in range(10)]\n",
        "array_of_ones\n"
      ]
    },
    {
      "cell_type": "markdown",
      "metadata": {
        "id": "FIcddv6lLKwO"
      },
      "source": [
        "#### Create an array of 10 fives"
      ]
    },
    {
      "cell_type": "code",
      "execution_count": null,
      "metadata": {
        "colab": {
          "base_uri": "https://localhost:8080/"
        },
        "id": "tXDJ5b8cLKwU",
        "outputId": "4b37c660-696f-4ca2-a593-1e4a89eca180"
      },
      "outputs": [
        {
          "output_type": "execute_result",
          "data": {
            "text/plain": [
              "[5, 5, 5, 5, 5, 5, 5, 5, 5, 5]"
            ]
          },
          "metadata": {},
          "execution_count": 5
        }
      ],
      "source": [
        "array_of_ones = [5 for i in range(10)]\n",
        "array_of_ones\n"
      ]
    },
    {
      "cell_type": "markdown",
      "metadata": {
        "id": "4UInvEwQLKwg"
      },
      "source": [
        "#### Create an array of the integers from 10 to 50"
      ]
    },
    {
      "cell_type": "code",
      "execution_count": null,
      "metadata": {
        "colab": {
          "base_uri": "https://localhost:8080/"
        },
        "id": "Z9kAbHHiLKwj",
        "outputId": "83ea98b0-f320-4776-fe4e-b53a70ad13a8"
      },
      "outputs": [
        {
          "output_type": "execute_result",
          "data": {
            "text/plain": [
              "array([10, 11, 12, 13, 14, 15, 16, 17, 18, 19, 20, 21, 22, 23, 24, 25, 26,\n",
              "       27, 28, 29, 30, 31, 32, 33, 34, 35, 36, 37, 38, 39, 40, 41, 42, 43,\n",
              "       44, 45, 46, 47, 48, 49, 50])"
            ]
          },
          "metadata": {},
          "execution_count": 12
        }
      ],
      "source": [
        "array_of_ones = np.arange(10, 51)\n",
        "array_of_ones\n"
      ]
    },
    {
      "cell_type": "markdown",
      "metadata": {
        "id": "3ZUIzdDeLKww"
      },
      "source": [
        "#### Create an array of all the even integers from 10 to 50"
      ]
    },
    {
      "cell_type": "code",
      "execution_count": null,
      "metadata": {
        "colab": {
          "base_uri": "https://localhost:8080/"
        },
        "id": "dVVfz73BLKw5",
        "outputId": "7c5dc073-6f58-4140-cb55-e9b7e9c9c875"
      },
      "outputs": [
        {
          "output_type": "execute_result",
          "data": {
            "text/plain": [
              "array([10, 12, 14, 16, 18, 20, 22, 24, 26, 28, 30, 32, 34, 36, 38, 40, 42,\n",
              "       44, 46, 48, 50])"
            ]
          },
          "metadata": {},
          "execution_count": 13
        }
      ],
      "source": [
        "array_of_ones = np.arange(10, 51,2)\n",
        "array_of_ones\n"
      ]
    },
    {
      "cell_type": "markdown",
      "metadata": {
        "id": "6e200i5-LKxB"
      },
      "source": [
        "#### Create a 3x3 matrix with values ranging from 0 to 8"
      ]
    },
    {
      "cell_type": "code",
      "execution_count": null,
      "metadata": {
        "colab": {
          "base_uri": "https://localhost:8080/"
        },
        "id": "6ODYRVCxLKxF",
        "outputId": "e6037302-cf37-421b-8d6b-ed37944b4456"
      },
      "outputs": [
        {
          "output_type": "execute_result",
          "data": {
            "text/plain": [
              "array([[0, 1, 2],\n",
              "       [3, 4, 5],\n",
              "       [6, 7, 8]])"
            ]
          },
          "metadata": {},
          "execution_count": 11
        }
      ],
      "source": [
        "matrix = np.arange(9).reshape(3, 3)\n",
        "matrix"
      ]
    },
    {
      "cell_type": "markdown",
      "metadata": {
        "id": "54wb4NboLKxN"
      },
      "source": [
        "#### Create a 3x3 identity matrix"
      ]
    },
    {
      "cell_type": "code",
      "execution_count": null,
      "metadata": {
        "colab": {
          "base_uri": "https://localhost:8080/"
        },
        "id": "j8JQg-VSLKxT",
        "outputId": "e5242be2-fbe3-4955-cfb7-7c15ce6488a3"
      },
      "outputs": [
        {
          "output_type": "execute_result",
          "data": {
            "text/plain": [
              "array([[1., 0., 0.],\n",
              "       [0., 1., 0.],\n",
              "       [0., 0., 1.]])"
            ]
          },
          "metadata": {},
          "execution_count": 10
        }
      ],
      "source": [
        "identity_matrix = np.eye(3)\n",
        "identity_matrix"
      ]
    },
    {
      "cell_type": "markdown",
      "metadata": {
        "id": "_bpkEUARLKxa"
      },
      "source": [
        "#### Use NumPy to generate a random number between 0 and 1"
      ]
    },
    {
      "cell_type": "code",
      "execution_count": null,
      "metadata": {
        "colab": {
          "base_uri": "https://localhost:8080/"
        },
        "id": "Co4I1qACLKxc",
        "outputId": "648f7ed5-48c6-4d71-8321-2ed793025135"
      },
      "outputs": [
        {
          "output_type": "execute_result",
          "data": {
            "text/plain": [
              "0.32909437912778405"
            ]
          },
          "metadata": {},
          "execution_count": 9
        }
      ],
      "source": [
        "random_number = np.random.random()\n",
        "random_number"
      ]
    },
    {
      "cell_type": "markdown",
      "metadata": {
        "id": "7Qix8s61LKxp"
      },
      "source": [
        "#### Use NumPy to generate an array of 25 random numbers sampled from a standard normal distribution"
      ]
    },
    {
      "cell_type": "code",
      "execution_count": null,
      "metadata": {
        "colab": {
          "base_uri": "https://localhost:8080/"
        },
        "id": "eUgQBgpQLKxs",
        "outputId": "28aff31b-5eb7-4b25-f94d-66056c4d6d04"
      },
      "outputs": [
        {
          "output_type": "execute_result",
          "data": {
            "text/plain": [
              "array([ 0.3474298 ,  1.0784632 ,  0.71743544, -0.03415394, -0.1876057 ,\n",
              "       -0.51373044, -1.91497417, -0.10886971,  1.57448972,  0.14046574,\n",
              "        0.13297462,  1.10596475, -0.79292512,  1.15907685,  0.20803525,\n",
              "        0.20742433, -0.272627  ,  0.53060095,  0.57625079, -0.22367256,\n",
              "       -0.71924804, -0.47637354, -1.33706503,  0.24604724,  0.33632694])"
            ]
          },
          "metadata": {},
          "execution_count": 8
        }
      ],
      "source": [
        "array_of_numbers = np.random.normal(0, 1, 25)\n",
        "array_of_numbers"
      ]
    },
    {
      "cell_type": "markdown",
      "metadata": {
        "id": "-sL9HYlWLKx1"
      },
      "source": [
        "#### Create the following matrix:"
      ]
    },
    {
      "cell_type": "code",
      "execution_count": null,
      "metadata": {
        "colab": {
          "base_uri": "https://localhost:8080/"
        },
        "id": "p2pm5Mm6LKx5",
        "outputId": "57526f53-d11c-4e76-945b-778883330f6f"
      },
      "outputs": [
        {
          "output_type": "execute_result",
          "data": {
            "text/plain": [
              "array([[0.01, 0.02, 0.03, 0.04, 0.05, 0.06, 0.07, 0.08, 0.09, 0.1 ],\n",
              "       [0.11, 0.12, 0.13, 0.14, 0.15, 0.16, 0.17, 0.18, 0.19, 0.2 ],\n",
              "       [0.21, 0.22, 0.23, 0.24, 0.25, 0.26, 0.27, 0.28, 0.29, 0.3 ],\n",
              "       [0.31, 0.32, 0.33, 0.34, 0.35, 0.36, 0.37, 0.38, 0.39, 0.4 ],\n",
              "       [0.41, 0.42, 0.43, 0.44, 0.45, 0.46, 0.47, 0.48, 0.49, 0.5 ],\n",
              "       [0.51, 0.52, 0.53, 0.54, 0.55, 0.56, 0.57, 0.58, 0.59, 0.6 ],\n",
              "       [0.61, 0.62, 0.63, 0.64, 0.65, 0.66, 0.67, 0.68, 0.69, 0.7 ],\n",
              "       [0.71, 0.72, 0.73, 0.74, 0.75, 0.76, 0.77, 0.78, 0.79, 0.8 ],\n",
              "       [0.81, 0.82, 0.83, 0.84, 0.85, 0.86, 0.87, 0.88, 0.89, 0.9 ],\n",
              "       [0.91, 0.92, 0.93, 0.94, 0.95, 0.96, 0.97, 0.98, 0.99, 1.  ]])"
            ]
          },
          "metadata": {},
          "execution_count": 7
        }
      ],
      "source": [
        "array_of_numbers = np.arange(0.01, 1.01, 0.01).reshape(10, 10)\n",
        "array_of_numbers"
      ]
    },
    {
      "cell_type": "markdown",
      "metadata": {
        "id": "UQzj3r7NLKx_"
      },
      "source": [
        "#### Create an array of 20 linearly spaced points between 0 and 1:"
      ]
    },
    {
      "cell_type": "code",
      "execution_count": null,
      "metadata": {
        "colab": {
          "base_uri": "https://localhost:8080/"
        },
        "id": "AniTWWz9LKyC",
        "outputId": "2f4f7495-21e8-42b3-d5df-a830b78d822c"
      },
      "outputs": [
        {
          "output_type": "execute_result",
          "data": {
            "text/plain": [
              "array([0.        , 0.05263158, 0.10526316, 0.15789474, 0.21052632,\n",
              "       0.26315789, 0.31578947, 0.36842105, 0.42105263, 0.47368421,\n",
              "       0.52631579, 0.57894737, 0.63157895, 0.68421053, 0.73684211,\n",
              "       0.78947368, 0.84210526, 0.89473684, 0.94736842, 1.        ])"
            ]
          },
          "metadata": {},
          "execution_count": 6
        }
      ],
      "source": [
        "array_of_points = np.linspace(0, 1, 20)\n",
        "array_of_points"
      ]
    },
    {
      "cell_type": "markdown",
      "metadata": {
        "id": "i3vsM3rPLKyK"
      },
      "source": [
        "## Numpy Indexing and Selection\n",
        "\n",
        "Now you will be given a few matrices, and be asked to replicate the resulting matrix outputs:"
      ]
    },
    {
      "cell_type": "code",
      "execution_count": null,
      "metadata": {
        "colab": {
          "base_uri": "https://localhost:8080/"
        },
        "id": "AM_s5FAvLKyN",
        "outputId": "8dc4b423-50e6-44b8-f580-8769fd80cdb1"
      },
      "outputs": [
        {
          "output_type": "execute_result",
          "data": {
            "text/plain": [
              "array([[ 1,  2,  3,  4,  5],\n",
              "       [ 6,  7,  8,  9, 10],\n",
              "       [11, 12, 13, 14, 15],\n",
              "       [16, 17, 18, 19, 20],\n",
              "       [21, 22, 23, 24, 25]])"
            ]
          },
          "metadata": {},
          "execution_count": 15
        }
      ],
      "source": [
        "mat = np.arange(1,26).reshape(5,5)\n",
        "mat"
      ]
    },
    {
      "cell_type": "code",
      "execution_count": null,
      "metadata": {
        "colab": {
          "base_uri": "https://localhost:8080/"
        },
        "id": "2BJ3cylOLKyf",
        "outputId": "ec1a9cd5-be81-41bd-d98a-6ab748c8c729"
      },
      "outputs": [
        {
          "output_type": "execute_result",
          "data": {
            "text/plain": [
              "array([[12, 13, 14, 15],\n",
              "       [17, 18, 19, 20],\n",
              "       [22, 23, 24, 25]])"
            ]
          },
          "metadata": {},
          "execution_count": 18
        }
      ],
      "source": [
        "new_matrix = mat[2:, 1:]\n",
        "new_matrix"
      ]
    },
    {
      "cell_type": "code",
      "execution_count": null,
      "metadata": {
        "colab": {
          "base_uri": "https://localhost:8080/"
        },
        "id": "QJyclCVfLKy6",
        "outputId": "e76f98f0-c799-4c58-d83d-0fec437cac9f"
      },
      "outputs": [
        {
          "output_type": "execute_result",
          "data": {
            "text/plain": [
              "20"
            ]
          },
          "metadata": {},
          "execution_count": 24
        }
      ],
      "source": [
        "desired_array = mat[3, 4]\n",
        "desired_array"
      ]
    },
    {
      "cell_type": "code",
      "execution_count": null,
      "metadata": {
        "colab": {
          "base_uri": "https://localhost:8080/"
        },
        "id": "BaybacXxLKze",
        "outputId": "d03e5154-9219-40c4-c626-c0aa091de451"
      },
      "outputs": [
        {
          "output_type": "execute_result",
          "data": {
            "text/plain": [
              "array([21, 22, 23, 24, 25])"
            ]
          },
          "metadata": {},
          "execution_count": 22
        }
      ],
      "source": [
        "desired_array = mat[-1, :]\n",
        "desired_array"
      ]
    },
    {
      "cell_type": "code",
      "execution_count": null,
      "metadata": {
        "colab": {
          "base_uri": "https://localhost:8080/"
        },
        "id": "hvblpMEFLKzl",
        "outputId": "6016c44a-1e17-4afc-d43e-17d4c5b4889e"
      },
      "outputs": [
        {
          "output_type": "execute_result",
          "data": {
            "text/plain": [
              "array([[ 2],\n",
              "       [ 7],\n",
              "       [12]])"
            ]
          },
          "metadata": {},
          "execution_count": 23
        }
      ],
      "source": [
        "desired_array = mat[:3,1:2]\n",
        "desired_array"
      ]
    },
    {
      "cell_type": "code",
      "execution_count": null,
      "metadata": {
        "colab": {
          "base_uri": "https://localhost:8080/"
        },
        "id": "L0SoIZfILKzr",
        "outputId": "adcaf85d-e79b-4294-87f9-0dd334908cae"
      },
      "outputs": [
        {
          "output_type": "execute_result",
          "data": {
            "text/plain": [
              "array([[16, 17, 18, 19, 20],\n",
              "       [21, 22, 23, 24, 25]])"
            ]
          },
          "metadata": {},
          "execution_count": 21
        }
      ],
      "source": [
        "desired_array = mat[3:5, :]\n",
        "desired_array"
      ]
    },
    {
      "cell_type": "markdown",
      "metadata": {
        "id": "40ijP69QLKz6"
      },
      "source": [
        "### Now do the following"
      ]
    },
    {
      "cell_type": "markdown",
      "metadata": {
        "id": "hJYmPKZ6LKz7"
      },
      "source": [
        "#### Get the sum of all the values in mat"
      ]
    },
    {
      "cell_type": "code",
      "execution_count": null,
      "metadata": {
        "colab": {
          "base_uri": "https://localhost:8080/"
        },
        "id": "lgjWcsNHLKz9",
        "outputId": "339e9c71-be86-4791-b10a-7a6733e23aa1"
      },
      "outputs": [
        {
          "output_type": "execute_result",
          "data": {
            "text/plain": [
              "325"
            ]
          },
          "metadata": {},
          "execution_count": 25
        }
      ],
      "source": [
        "total_sum = np.sum(mat)\n",
        "total_sum"
      ]
    },
    {
      "cell_type": "markdown",
      "metadata": {
        "id": "aOxAVLe8LK0B"
      },
      "source": [
        "#### Get the standard deviation of the values in mat"
      ]
    },
    {
      "cell_type": "code",
      "execution_count": null,
      "metadata": {
        "colab": {
          "base_uri": "https://localhost:8080/"
        },
        "id": "1bExi0tvLK0D",
        "outputId": "174a5e65-7613-433e-bf98-15b9827ec0de"
      },
      "outputs": [
        {
          "output_type": "execute_result",
          "data": {
            "text/plain": [
              "7.211102550927978"
            ]
          },
          "metadata": {},
          "execution_count": 26
        }
      ],
      "source": [
        "total_sum = np.std(mat)\n",
        "total_sum"
      ]
    },
    {
      "cell_type": "markdown",
      "metadata": {
        "id": "qWvkrLQWLK0H"
      },
      "source": [
        "#### Get the sum of all the columns in mat"
      ]
    },
    {
      "cell_type": "code",
      "execution_count": null,
      "metadata": {
        "colab": {
          "base_uri": "https://localhost:8080/"
        },
        "id": "-XFw4SD1LK0J",
        "outputId": "7a7c13d5-12c3-49d4-b616-7c812ebc5605"
      },
      "outputs": [
        {
          "output_type": "execute_result",
          "data": {
            "text/plain": [
              "array([55, 60, 65, 70, 75])"
            ]
          },
          "metadata": {},
          "execution_count": 27
        }
      ],
      "source": [
        "total_sum = np.sum(mat,axis=0)\n",
        "total_sum"
      ]
    },
    {
      "cell_type": "markdown",
      "metadata": {
        "collapsed": true,
        "id": "x75g5hGlLK0N"
      },
      "source": []
    }
  ],
  "metadata": {
    "colab": {
      "provenance": []
    },
    "kernelspec": {
      "display_name": "Python 3",
      "language": "python",
      "name": "python3"
    },
    "language_info": {
      "codemirror_mode": {
        "name": "ipython",
        "version": 3
      },
      "file_extension": ".py",
      "mimetype": "text/x-python",
      "name": "python",
      "nbconvert_exporter": "python",
      "pygments_lexer": "ipython3",
      "version": "3.8.0"
    }
  },
  "nbformat": 4,
  "nbformat_minor": 0
}